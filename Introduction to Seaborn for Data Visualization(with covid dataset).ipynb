{
 "cells": [
  {
   "cell_type": "markdown",
   "id": "Ik3iMYd7dxHW",
   "metadata": {
    "id": "Ik3iMYd7dxHW"
   },
   "source": [
    "#### Install Seaborn\n",
    "\n",
    "In CMD, write the following command and press Enter<br>\n",
    "pip install seaborn\n",
    "\n",
    "OR\n",
    "\n",
    "In jupyter, write the folliwng command and press Run<br>\n",
    "!pip install seaborn\n",
    "\n"
   ]
  },
  {
   "cell_type": "code",
   "execution_count": null,
   "id": "djdy6FqhdxHb",
   "metadata": {
    "id": "djdy6FqhdxHb"
   },
   "outputs": [],
   "source": [
    "# !pip install seaborn"
   ]
  },
  {
   "cell_type": "markdown",
   "id": "BJRZym2pdxHc",
   "metadata": {
    "id": "BJRZym2pdxHc"
   },
   "source": [
    "#### Seaborn Documentation\n",
    "https://seaborn.pydata.org/tutorial.html"
   ]
  },
  {
   "cell_type": "code",
   "execution_count": null,
   "id": "b0o9flAMdxHd",
   "metadata": {
    "id": "b0o9flAMdxHd"
   },
   "outputs": [],
   "source": [
    "import pandas as pd\n",
    "# pandas is aliased as pd\n",
    "import numpy as np\n",
    "# numpy is aliased as np\n",
    "import matplotlib.pyplot as plt\n",
    "# pyplot is aliased as plt\n",
    "import seaborn as sns\n",
    "# seaborn is aliased as sns"
   ]
  },
  {
   "cell_type": "code",
   "execution_count": null,
   "id": "Ye47eo9ndxHd",
   "metadata": {
    "id": "Ye47eo9ndxHd",
    "outputId": "a0136deb-e9cf-4866-f164-24b8f5b57bd4"
   },
   "outputs": [
    {
     "name": "stdout",
     "output_type": "stream",
     "text": [
      "<class 'pandas.core.frame.DataFrame'>\n"
     ]
    },
    {
     "data": {
      "text/html": [
       "<div>\n",
       "<style scoped>\n",
       "    .dataframe tbody tr th:only-of-type {\n",
       "        vertical-align: middle;\n",
       "    }\n",
       "\n",
       "    .dataframe tbody tr th {\n",
       "        vertical-align: top;\n",
       "    }\n",
       "\n",
       "    .dataframe thead th {\n",
       "        text-align: right;\n",
       "    }\n",
       "</style>\n",
       "<table border=\"1\" class=\"dataframe\">\n",
       "  <thead>\n",
       "    <tr style=\"text-align: right;\">\n",
       "      <th></th>\n",
       "      <th>date</th>\n",
       "      <th>day</th>\n",
       "      <th>month</th>\n",
       "      <th>year</th>\n",
       "      <th>cases</th>\n",
       "      <th>deaths</th>\n",
       "      <th>countries</th>\n",
       "      <th>geoId</th>\n",
       "      <th>countryterritoryCode</th>\n",
       "      <th>popData2018</th>\n",
       "    </tr>\n",
       "  </thead>\n",
       "  <tbody>\n",
       "    <tr>\n",
       "      <th>0</th>\n",
       "      <td>4/6/2020</td>\n",
       "      <td>6</td>\n",
       "      <td>4</td>\n",
       "      <td>2020</td>\n",
       "      <td>29</td>\n",
       "      <td>2</td>\n",
       "      <td>Afghanistan</td>\n",
       "      <td>AF</td>\n",
       "      <td>AFG</td>\n",
       "      <td>37172386.0</td>\n",
       "    </tr>\n",
       "    <tr>\n",
       "      <th>1</th>\n",
       "      <td>4/5/2020</td>\n",
       "      <td>5</td>\n",
       "      <td>4</td>\n",
       "      <td>2020</td>\n",
       "      <td>35</td>\n",
       "      <td>1</td>\n",
       "      <td>Afghanistan</td>\n",
       "      <td>AF</td>\n",
       "      <td>AFG</td>\n",
       "      <td>37172386.0</td>\n",
       "    </tr>\n",
       "    <tr>\n",
       "      <th>2</th>\n",
       "      <td>4/4/2020</td>\n",
       "      <td>4</td>\n",
       "      <td>4</td>\n",
       "      <td>2020</td>\n",
       "      <td>0</td>\n",
       "      <td>0</td>\n",
       "      <td>Afghanistan</td>\n",
       "      <td>AF</td>\n",
       "      <td>AFG</td>\n",
       "      <td>37172386.0</td>\n",
       "    </tr>\n",
       "    <tr>\n",
       "      <th>3</th>\n",
       "      <td>4/3/2020</td>\n",
       "      <td>3</td>\n",
       "      <td>4</td>\n",
       "      <td>2020</td>\n",
       "      <td>43</td>\n",
       "      <td>0</td>\n",
       "      <td>Afghanistan</td>\n",
       "      <td>AF</td>\n",
       "      <td>AFG</td>\n",
       "      <td>37172386.0</td>\n",
       "    </tr>\n",
       "    <tr>\n",
       "      <th>4</th>\n",
       "      <td>4/2/2020</td>\n",
       "      <td>2</td>\n",
       "      <td>4</td>\n",
       "      <td>2020</td>\n",
       "      <td>26</td>\n",
       "      <td>0</td>\n",
       "      <td>Afghanistan</td>\n",
       "      <td>AF</td>\n",
       "      <td>AFG</td>\n",
       "      <td>37172386.0</td>\n",
       "    </tr>\n",
       "  </tbody>\n",
       "</table>\n",
       "</div>"
      ],
      "text/plain": [
       "       date  day  month  year  cases  deaths    countries geoId  \\\n",
       "0  4/6/2020    6      4  2020     29       2  Afghanistan    AF   \n",
       "1  4/5/2020    5      4  2020     35       1  Afghanistan    AF   \n",
       "2  4/4/2020    4      4  2020      0       0  Afghanistan    AF   \n",
       "3  4/3/2020    3      4  2020     43       0  Afghanistan    AF   \n",
       "4  4/2/2020    2      4  2020     26       0  Afghanistan    AF   \n",
       "\n",
       "  countryterritoryCode  popData2018  \n",
       "0                  AFG   37172386.0  \n",
       "1                  AFG   37172386.0  \n",
       "2                  AFG   37172386.0  \n",
       "3                  AFG   37172386.0  \n",
       "4                  AFG   37172386.0  "
      ]
     },
     "execution_count": 17,
     "metadata": {},
     "output_type": "execute_result"
    }
   ],
   "source": [
    "df = pd.read_csv('covid.csv')\n",
    "print(type(df))\n",
    "df.head()"
   ]
  },
  {
   "cell_type": "code",
   "execution_count": null,
   "id": "OCjl4Qi6dxHe",
   "metadata": {
    "id": "OCjl4Qi6dxHe",
    "outputId": "82c6efd7-2844-42d7-f0d7-60d85b3291a7"
   },
   "outputs": [
    {
     "data": {
      "text/plain": [
       "(9107, 10)"
      ]
     },
     "execution_count": 20,
     "metadata": {},
     "output_type": "execute_result"
    }
   ],
   "source": [
    "df.shape\n",
    "# num of rows = 9107\n",
    "# num of cols = 10"
   ]
  },
  {
   "cell_type": "code",
   "execution_count": null,
   "id": "OHeOblQgdxHf",
   "metadata": {
    "id": "OHeOblQgdxHf",
    "outputId": "e978b8c8-abc1-4f24-a1f7-5ab6dc96a0ca"
   },
   "outputs": [
    {
     "data": {
      "text/plain": [
       "Iceland                              98\n",
       "Switzerland                          98\n",
       "United_States_of_America             98\n",
       "Sweden                               98\n",
       "Germany                              98\n",
       "                                     ..\n",
       "Bonaire, Saint Eustatius and Saba     5\n",
       "Malawi                                4\n",
       "Falkland_Islands_(Malvinas)           3\n",
       "South_Sudan                           1\n",
       "Saint_Barthelemy                      1\n",
       "Name: countries, Length: 205, dtype: int64"
      ]
     },
     "execution_count": 22,
     "metadata": {},
     "output_type": "execute_result"
    }
   ],
   "source": [
    "df['countries'].value_counts()"
   ]
  },
  {
   "cell_type": "code",
   "execution_count": null,
   "id": "HsruTfJHdxHf",
   "metadata": {
    "id": "HsruTfJHdxHf",
    "outputId": "1a3104cf-3d19-4ce3-f794-2f0a17ad4a5d"
   },
   "outputs": [
    {
     "name": "stdout",
     "output_type": "stream",
     "text": [
      "205\n"
     ]
    },
    {
     "data": {
      "text/plain": [
       "array(['Afghanistan', 'Albania', 'Andorra', 'Algeria', 'Angola',\n",
       "       'Anguilla', 'Antigua_and_Barbuda', 'Argentina', 'Armenia', 'Aruba',\n",
       "       'Australia', 'Austria', 'Azerbaijan', 'Bahamas', 'Bahrain',\n",
       "       'Bangladesh', 'Barbados', 'Belarus', 'Belgium', 'Belize', 'Benin',\n",
       "       'Bermuda', 'Bhutan', 'Bolivia',\n",
       "       'Bonaire, Saint Eustatius and Saba', 'Bosnia_and_Herzegovina',\n",
       "       'Botswana', 'Brazil', 'British_Virgin_Islands',\n",
       "       'Brunei_Darussalam', 'Bulgaria', 'Burkina_Faso', 'Burundi',\n",
       "       'Cambodia', 'Cameroon', 'Canada', 'Cape_Verde',\n",
       "       'Cases_on_an_international_conveyance_Japan', 'Cayman_Islands',\n",
       "       'Central_African_Republic', 'Chad', 'Chile', 'China', 'Colombia',\n",
       "       'Congo', 'Costa_Rica', 'Cote_dIvoire', 'Croatia', 'Cuba',\n",
       "       'Cura??ao', 'Cyprus', 'Czech_Republic',\n",
       "       'Democratic_Republic_of_the_Congo', 'Denmark', 'Djibouti',\n",
       "       'Dominica', 'Dominican_Republic', 'Ecuador', 'Egypt',\n",
       "       'El_Salvador', 'Equatorial_Guinea', 'Eritrea', 'Estonia',\n",
       "       'Eswatini', 'Ethiopia', 'Falkland_Islands_(Malvinas)',\n",
       "       'Faroe_Islands', 'Fiji', 'Finland', 'France', 'French_Polynesia',\n",
       "       'Gabon', 'Gambia', 'Georgia', 'Germany', 'Ghana', 'Gibraltar',\n",
       "       'Greece', 'Greenland', 'Grenada', 'Guam', 'Guatemala', 'Guernsey',\n",
       "       'Guinea', 'Guinea_Bissau', 'Guyana', 'Haiti', 'Holy_See',\n",
       "       'Honduras', 'Hungary', 'Iceland', 'India', 'Indonesia', 'Iran',\n",
       "       'Iraq', 'Ireland', 'Isle_of_Man', 'Israel', 'Italy', 'Jamaica',\n",
       "       'Japan', 'Jersey', 'Jordan', 'Kazakhstan', 'Kenya', 'Kosovo',\n",
       "       'Kuwait', 'Kyrgyzstan', 'Laos', 'Latvia', 'Lebanon', 'Liberia',\n",
       "       'Libya', 'Liechtenstein', 'Lithuania', 'Luxembourg', 'Madagascar',\n",
       "       'Malawi', 'Malaysia', 'Maldives', 'Mali', 'Malta', 'Mauritania',\n",
       "       'Mauritius', 'Mexico', 'Moldova', 'Monaco', 'Mongolia',\n",
       "       'Montenegro', 'Montserrat', 'Morocco', 'Mozambique', 'Myanmar',\n",
       "       'Namibia', 'Nepal', 'Netherlands', 'New_Caledonia', 'New_Zealand',\n",
       "       'Nicaragua', 'Niger', 'Nigeria', 'North_Macedonia',\n",
       "       'Northern_Mariana_Islands', 'Norway', 'Oman', 'Pakistan',\n",
       "       'Palestine', 'Panama', 'Papua_New_Guinea', 'Paraguay', 'Peru',\n",
       "       'Philippines', 'Poland', 'Portugal', 'Puerto_Rico', 'Qatar',\n",
       "       'Romania', 'Russia', 'Rwanda', 'Saint_Barthelemy',\n",
       "       'Saint_Kitts_and_Nevis', 'Saint_Lucia',\n",
       "       'Saint_Vincent_and_the_Grenadines', 'San_Marino', 'Saudi_Arabia',\n",
       "       'Senegal', 'Serbia', 'Seychelles', 'Sierra_Leone', 'Singapore',\n",
       "       'Sint_Maarten', 'Slovakia', 'Slovenia', 'Somalia', 'South_Africa',\n",
       "       'South_Korea', 'South_Sudan', 'Spain', 'Sri_Lanka', 'Sudan',\n",
       "       'Suriname', 'Sweden', 'Switzerland', 'Syria', 'Taiwan', 'Thailand',\n",
       "       'Timor_Leste', 'Togo', 'Trinidad_and_Tobago', 'Tunisia', 'Turkey',\n",
       "       'Turks_and_Caicos_islands', 'Uganda', 'Ukraine',\n",
       "       'United_Arab_Emirates', 'United_Kingdom',\n",
       "       'United_Republic_of_Tanzania', 'United_States_of_America',\n",
       "       'United_States_Virgin_Islands', 'Uruguay', 'Uzbekistan',\n",
       "       'Venezuela', 'Vietnam', 'Zambia', 'Zimbabwe'], dtype=object)"
      ]
     },
     "execution_count": 25,
     "metadata": {},
     "output_type": "execute_result"
    }
   ],
   "source": [
    "print(df['countries'].nunique())\n",
    "df['countries'].unique()"
   ]
  },
  {
   "cell_type": "code",
   "execution_count": null,
   "id": "ADNT9LbrdxHg",
   "metadata": {
    "id": "ADNT9LbrdxHg",
    "outputId": "0cecdb0d-92af-4af6-d270-4b8b2c08b4cb"
   },
   "outputs": [
    {
     "data": {
      "text/plain": [
       "Index(['date', 'day', 'month', 'year', 'cases', 'deaths', 'countries', 'geoId',\n",
       "       'countryterritoryCode', 'popData2018'],\n",
       "      dtype='object')"
      ]
     },
     "execution_count": 26,
     "metadata": {},
     "output_type": "execute_result"
    }
   ],
   "source": [
    "df.columns"
   ]
  },
  {
   "cell_type": "code",
   "execution_count": null,
   "id": "n-SUQvD6dxHh",
   "metadata": {
    "id": "n-SUQvD6dxHh",
    "outputId": "566e9e95-c8b1-4015-97dc-bd798c62ce5f"
   },
   "outputs": [
    {
     "data": {
      "text/plain": [
       "3     3815\n",
       "1     2077\n",
       "2     1943\n",
       "4     1205\n",
       "12      67\n",
       "Name: month, dtype: int64"
      ]
     },
     "execution_count": 29,
     "metadata": {},
     "output_type": "execute_result"
    }
   ],
   "source": [
    "df['month'].value_counts()"
   ]
  },
  {
   "cell_type": "code",
   "execution_count": null,
   "id": "Xa5voFlZdxHh",
   "metadata": {
    "id": "Xa5voFlZdxHh",
    "outputId": "18dbbc8d-a117-4277-a48c-d28a5d19e40d"
   },
   "outputs": [
    {
     "data": {
      "text/plain": [
       "2020    9040\n",
       "2019      67\n",
       "Name: year, dtype: int64"
      ]
     },
     "execution_count": 30,
     "metadata": {},
     "output_type": "execute_result"
    }
   ],
   "source": [
    "df['year'].value_counts()"
   ]
  },
  {
   "cell_type": "code",
   "execution_count": null,
   "id": "xYPMA9HFdxHh",
   "metadata": {
    "id": "xYPMA9HFdxHh",
    "outputId": "d4b0f32e-e0d6-4bf3-fa19-7dc9d01574fe"
   },
   "outputs": [
    {
     "data": {
      "text/plain": [
       "date                     0\n",
       "day                      0\n",
       "month                    0\n",
       "year                     0\n",
       "cases                    0\n",
       "deaths                   0\n",
       "countries                0\n",
       "geoId                   23\n",
       "countryterritoryCode    84\n",
       "popData2018             36\n",
       "dtype: int64"
      ]
     },
     "execution_count": 31,
     "metadata": {},
     "output_type": "execute_result"
    }
   ],
   "source": [
    "df.isnull().sum()"
   ]
  },
  {
   "cell_type": "code",
   "execution_count": null,
   "id": "bDwUjBMndxHi",
   "metadata": {
    "id": "bDwUjBMndxHi",
    "outputId": "9fbc4df3-e653-435c-aecc-b0a4b7667d8f"
   },
   "outputs": [
    {
     "name": "stdout",
     "output_type": "stream",
     "text": [
      "<class 'pandas.core.frame.DataFrame'>\n"
     ]
    },
    {
     "data": {
      "text/html": [
       "<div>\n",
       "<style scoped>\n",
       "    .dataframe tbody tr th:only-of-type {\n",
       "        vertical-align: middle;\n",
       "    }\n",
       "\n",
       "    .dataframe tbody tr th {\n",
       "        vertical-align: top;\n",
       "    }\n",
       "\n",
       "    .dataframe thead th {\n",
       "        text-align: right;\n",
       "    }\n",
       "</style>\n",
       "<table border=\"1\" class=\"dataframe\">\n",
       "  <thead>\n",
       "    <tr style=\"text-align: right;\">\n",
       "      <th></th>\n",
       "      <th>index</th>\n",
       "      <th>month</th>\n",
       "    </tr>\n",
       "  </thead>\n",
       "  <tbody>\n",
       "    <tr>\n",
       "      <th>0</th>\n",
       "      <td>3</td>\n",
       "      <td>3815</td>\n",
       "    </tr>\n",
       "    <tr>\n",
       "      <th>1</th>\n",
       "      <td>1</td>\n",
       "      <td>2077</td>\n",
       "    </tr>\n",
       "    <tr>\n",
       "      <th>2</th>\n",
       "      <td>2</td>\n",
       "      <td>1943</td>\n",
       "    </tr>\n",
       "    <tr>\n",
       "      <th>3</th>\n",
       "      <td>4</td>\n",
       "      <td>1205</td>\n",
       "    </tr>\n",
       "    <tr>\n",
       "      <th>4</th>\n",
       "      <td>12</td>\n",
       "      <td>67</td>\n",
       "    </tr>\n",
       "  </tbody>\n",
       "</table>\n",
       "</div>"
      ],
      "text/plain": [
       "   index  month\n",
       "0      3   3815\n",
       "1      1   2077\n",
       "2      2   1943\n",
       "3      4   1205\n",
       "4     12     67"
      ]
     },
     "execution_count": 36,
     "metadata": {},
     "output_type": "execute_result"
    }
   ],
   "source": [
    "r1 = df['month'].value_counts().reset_index()\n",
    "print(type(r1))\n",
    "r1"
   ]
  },
  {
   "cell_type": "markdown",
   "id": "dJHjcxZgdxHi",
   "metadata": {
    "id": "dJHjcxZgdxHi"
   },
   "source": [
    "### Bar Chart\n",
    "\n",
    "sns.barplot(x,y,hue,color)\n",
    "\n",
    "x - Value to be dispalyed on x-axis<br>\n",
    "y - Value to be displayed on y-axis<br>\n",
    "hue - feature that decides the color<br>\n",
    "color - color of the bars<br>"
   ]
  },
  {
   "cell_type": "markdown",
   "id": "w9u3M_UIdxHi",
   "metadata": {
    "id": "w9u3M_UIdxHi"
   },
   "source": [
    "#### Depict Month Count on a bar chart using seaborn"
   ]
  },
  {
   "cell_type": "code",
   "execution_count": null,
   "id": "-0dgbJLddxHj",
   "metadata": {
    "id": "-0dgbJLddxHj",
    "outputId": "abedf890-ca65-4944-b24f-43514ac0c0de"
   },
   "outputs": [
    {
     "data": {
      "text/plain": [
       "<matplotlib.axes._subplots.AxesSubplot at 0x280825b8160>"
      ]
     },
     "execution_count": 38,
     "metadata": {},
     "output_type": "execute_result"
    },
    {
     "data": {
      "image/png": "[encoded data removed]",
      "text/plain": [
       "<Figure size 432x288 with 1 Axes>"
      ]
     },
     "metadata": {
      "needs_background": "light"
     },
     "output_type": "display_data"
    }
   ],
   "source": [
    "# Method - 1\n",
    "sns.barplot(x=r1['index'],y=r1['month'])"
   ]
  },
  {
   "cell_type": "code",
   "execution_count": null,
   "id": "Eeh7nsMMdxHj",
   "metadata": {
    "id": "Eeh7nsMMdxHj",
    "outputId": "6f84ddc8-9227-4d03-bd0e-ef6bd122b1c6"
   },
   "outputs": [
    {
     "data": {
      "image/png": "[encoded data removed]",
      "text/plain": [
       "<Figure size 432x288 with 1 Axes>"
      ]
     },
     "metadata": {
      "needs_background": "light"
     },
     "output_type": "display_data"
    }
   ],
   "source": [
    "# Method - 2\n",
    "sns.barplot(data=r1,x='index',y='month')\n",
    "plt.show()"
   ]
  },
  {
   "cell_type": "markdown",
   "id": "60DetzOXdxHj",
   "metadata": {
    "id": "60DetzOXdxHj"
   },
   "source": [
    "### Styling BarPlots"
   ]
  },
  {
   "cell_type": "markdown",
   "id": "Va_vzUqWdxHj",
   "metadata": {
    "id": "Va_vzUqWdxHj"
   },
   "source": [
    "#### Plot month wise mean of cases on a barplot for Mar and Apr for India, Belgium, Russia and Australia"
   ]
  },
  {
   "cell_type": "code",
   "execution_count": null,
   "id": "DVwjALaWdxHk",
   "metadata": {
    "id": "DVwjALaWdxHk",
    "outputId": "d0f42505-fd23-4a8b-b9e0-10515a0be420"
   },
   "outputs": [
    {
     "data": {
      "text/plain": [
       "(142, 10)"
      ]
     },
     "execution_count": 59,
     "metadata": {},
     "output_type": "execute_result"
    }
   ],
   "source": [
    "df_4c = df[ (df['countries'].isin(['India','Belgium','Russia','Australia'])) & (df['month'].isin([3,4]))]\n",
    "df_4c.shape\n",
    "# num of rows = 142\n",
    "# num of cols = 10"
   ]
  },
  {
   "cell_type": "code",
   "execution_count": null,
   "id": "DNIYLAQ0dxHk",
   "metadata": {
    "id": "DNIYLAQ0dxHk",
    "outputId": "3dbfe3d1-7f37-4688-d54a-99c335831410"
   },
   "outputs": [
    {
     "data": {
      "text/plain": [
       "Belgium      37\n",
       "Australia    37\n",
       "India        36\n",
       "Russia       32\n",
       "Name: countries, dtype: int64"
      ]
     },
     "execution_count": 61,
     "metadata": {},
     "output_type": "execute_result"
    }
   ],
   "source": [
    "df_4c['countries'].value_counts()"
   ]
  },
  {
   "cell_type": "code",
   "execution_count": null,
   "id": "F4vc9k93dxHk",
   "metadata": {
    "id": "F4vc9k93dxHk",
    "outputId": "c69c0256-ddf5-4f7c-fc82-701ac647bd04"
   },
   "outputs": [
    {
     "data": {
      "text/plain": [
       "3    118\n",
       "4     24\n",
       "Name: month, dtype: int64"
      ]
     },
     "execution_count": 62,
     "metadata": {},
     "output_type": "execute_result"
    }
   ],
   "source": [
    "df_4c['month'].value_counts()"
   ]
  },
  {
   "cell_type": "code",
   "execution_count": null,
   "id": "k9QsdOB2dxHk",
   "metadata": {
    "id": "k9QsdOB2dxHk",
    "outputId": "3fbdc209-7369-4022-a48b-140e7629bb64"
   },
   "outputs": [
    {
     "data": {
      "text/plain": [
       "month\n",
       "3    165.355932\n",
       "4    639.500000\n",
       "Name: cases, dtype: float64"
      ]
     },
     "execution_count": 71,
     "metadata": {},
     "output_type": "execute_result"
    }
   ],
   "source": [
    "r2 = df_4c.groupby(['month'])['cases'].mean()\n",
    "r2"
   ]
  },
  {
   "cell_type": "code",
   "execution_count": null,
   "id": "SpXLgnA8dxHk",
   "metadata": {
    "id": "SpXLgnA8dxHk",
    "outputId": "14c451e6-56e3-4593-e115-adab9068d2f4"
   },
   "outputs": [
    {
     "data": {
      "image/png": "[encoded data removed]",
      "text/plain": [
       "<Figure size 432x288 with 1 Axes>"
      ]
     },
     "metadata": {
      "needs_background": "light"
     },
     "output_type": "display_data"
    }
   ],
   "source": [
    "sns.barplot(data=df_4c,x ='month',y='cases',ci=None,color='maroon')\n",
    "plt.title('Mean of Cases based on Month')\n",
    "plt.show()"
   ]
  },
  {
   "cell_type": "code",
   "execution_count": null,
   "id": "7-SuRdf-dxHl",
   "metadata": {
    "id": "7-SuRdf-dxHl",
    "outputId": "97ec3485-5764-417d-9d15-c18e858b2435"
   },
   "outputs": [
    {
     "name": "stdout",
     "output_type": "stream",
     "text": [
      "<class 'pandas.core.series.Series'>\n"
     ]
    },
    {
     "data": {
      "text/plain": [
       "month  countries\n",
       "3      Australia     146.193548\n",
       "       Belgium       383.806452\n",
       "       India          41.600000\n",
       "       Russia         70.538462\n",
       "4      Australia     197.833333\n",
       "       Belgium      1298.666667\n",
       "       India         469.333333\n",
       "       Russia        592.166667\n",
       "Name: cases, dtype: float64"
      ]
     },
     "execution_count": 80,
     "metadata": {},
     "output_type": "execute_result"
    }
   ],
   "source": [
    "r3 = df_4c.groupby(['month','countries'])['cases'].mean()\n",
    "print(type(r3))\n",
    "r3"
   ]
  },
  {
   "cell_type": "code",
   "execution_count": null,
   "id": "gyBakxITdxHl",
   "metadata": {
    "id": "gyBakxITdxHl",
    "outputId": "14dd7a70-ac4c-401a-eb5c-556eb8a1bd76"
   },
   "outputs": [
    {
     "name": "stdout",
     "output_type": "stream",
     "text": [
      "MultiIndex([(3, 'Australia'),\n",
      "            (3,   'Belgium'),\n",
      "            (3,     'India'),\n",
      "            (3,    'Russia'),\n",
      "            (4, 'Australia'),\n",
      "            (4,   'Belgium'),\n",
      "            (4,     'India'),\n",
      "            (4,    'Russia')],\n",
      "           names=['month', 'countries'])\n",
      "[ 146.19354839  383.80645161   41.6          70.53846154  197.83333333\n",
      " 1298.66666667  469.33333333  592.16666667]\n"
     ]
    }
   ],
   "source": [
    "print(r3.index)\n",
    "print(r3.values)"
   ]
  },
  {
   "cell_type": "code",
   "execution_count": null,
   "id": "nVjU4MO8dxHl",
   "metadata": {
    "id": "nVjU4MO8dxHl",
    "outputId": "62f8078a-801b-48db-b30e-237f498ceb32"
   },
   "outputs": [
    {
     "data": {
      "image/png": "[encoded data removed]",
      "text/plain": [
       "<Figure size 432x288 with 1 Axes>"
      ]
     },
     "metadata": {
      "needs_background": "light"
     },
     "output_type": "display_data"
    }
   ],
   "source": [
    "sns.barplot(data=df_4c, x='month',y= 'cases',hue='countries',ci=None)\n",
    "plt.grid()\n",
    "plt.show()\n",
    "# 3      Australia     146.193548\n",
    "#        Belgium       383.806452\n",
    "#        India          41.600000\n",
    "#        Russia         70.538462"
   ]
  },
  {
   "cell_type": "markdown",
   "id": "dTZpVJaZdxHl",
   "metadata": {
    "id": "dTZpVJaZdxHl"
   },
   "source": [
    "### Line Chart\n",
    "\n",
    "plt.lineplot(x,y,hue,color,style,markers)<br>\n",
    "x - data(column to be represented on x-axis<br>\n",
    "y - data(column to be represented on y-axis<br>\n",
    "color - color of the lines<br>\n",
    "hue - the column used for grouping. The criteria that decides the color of th line<br>\n",
    "markers - True or False<br>\n",
    "style - column based on which markers will be displayed<br>"
   ]
  },
  {
   "cell_type": "markdown",
   "id": "qJvBx1_hdxHl",
   "metadata": {
    "id": "qJvBx1_hdxHl"
   },
   "source": [
    "#### Plot month wise mean of cases on a lineplot for 2020"
   ]
  },
  {
   "cell_type": "code",
   "execution_count": null,
   "id": "fcaYAKdUdxHl",
   "metadata": {
    "id": "fcaYAKdUdxHl",
    "outputId": "8e88df72-1b39-4bd5-ffd0-dad0db2c8e8f"
   },
   "outputs": [
    {
     "data": {
      "text/plain": [
       "(9040, 10)"
      ]
     },
     "execution_count": 83,
     "metadata": {},
     "output_type": "execute_result"
    }
   ],
   "source": [
    "df_2020 = df[df['year']==2020]\n",
    "df_2020.shape"
   ]
  },
  {
   "cell_type": "code",
   "execution_count": null,
   "id": "TI1wYX9ddxHm",
   "metadata": {
    "id": "TI1wYX9ddxHm",
    "outputId": "53e96b1b-a3c7-4c98-8728-8bbd7298058e"
   },
   "outputs": [
    {
     "data": {
      "text/plain": [
       "month\n",
       "1       4.717862\n",
       "2      38.794133\n",
       "3     181.544692\n",
       "4     387.240664\n",
       "12      0.402985\n",
       "Name: cases, dtype: float64"
      ]
     },
     "execution_count": 88,
     "metadata": {},
     "output_type": "execute_result"
    }
   ],
   "source": [
    "df_2020 = df.groupby('month')['cases'].mean()\n",
    "df_2020"
   ]
  },
  {
   "cell_type": "code",
   "execution_count": null,
   "id": "X_9bkIXXdxHm",
   "metadata": {
    "id": "X_9bkIXXdxHm",
    "outputId": "33d19c96-2459-42b3-c8a8-dc4aded35343"
   },
   "outputs": [
    {
     "data": {
      "image/png": "[encoded data removed]",
      "text/plain": [
       "<Figure size 432x288 with 1 Axes>"
      ]
     },
     "metadata": {
      "needs_background": "light"
     },
     "output_type": "display_data"
    }
   ],
   "source": [
    "sns.lineplot(data=df_2020, x='month',y= 'cases',ci=None)\n",
    "plt.show()"
   ]
  },
  {
   "cell_type": "markdown",
   "id": "Wg-uElPkdxHm",
   "metadata": {
    "id": "Wg-uElPkdxHm"
   },
   "source": [
    "### Styling LinepLots"
   ]
  },
  {
   "cell_type": "markdown",
   "id": "ZGtA7Az5dxHm",
   "metadata": {
    "id": "ZGtA7Az5dxHm"
   },
   "source": [
    "#### Plot month vs mean of cases on a lineplot based on Countries - India, Belgium, Russia and Australia"
   ]
  },
  {
   "cell_type": "code",
   "execution_count": null,
   "id": "RcR0y0ondxHm",
   "metadata": {
    "id": "RcR0y0ondxHm",
    "outputId": "e199fd4e-0a62-4930-e199-e52cc7ae3c63"
   },
   "outputs": [
    {
     "data": {
      "text/plain": [
       "(386, 10)"
      ]
     },
     "execution_count": 89,
     "metadata": {},
     "output_type": "execute_result"
    }
   ],
   "source": [
    "df_4c = df[df['countries'].isin(['India','Belgium','Russia','Australia'])]\n",
    "df_4c.shape"
   ]
  },
  {
   "cell_type": "code",
   "execution_count": null,
   "id": "Udnh4U5FdxHm",
   "metadata": {
    "id": "Udnh4U5FdxHm",
    "outputId": "ca4a0fe1-f786-4ffd-e880-ffedc2058923"
   },
   "outputs": [
    {
     "data": {
      "text/plain": [
       "Belgium      98\n",
       "Australia    98\n",
       "India        97\n",
       "Russia       93\n",
       "Name: countries, dtype: int64"
      ]
     },
     "execution_count": 91,
     "metadata": {},
     "output_type": "execute_result"
    }
   ],
   "source": [
    "df_4c['countries'].value_counts()"
   ]
  },
  {
   "cell_type": "code",
   "execution_count": null,
   "id": "u-uC0JYgdxHn",
   "metadata": {
    "id": "u-uC0JYgdxHn",
    "outputId": "2f857861-2324-4774-a9ac-c9c3b791a1ea"
   },
   "outputs": [
    {
     "data": {
      "image/png": "[encoded data removed]",
      "text/plain": [
       "<Figure size 432x288 with 1 Axes>"
      ]
     },
     "metadata": {
      "needs_background": "light"
     },
     "output_type": "display_data"
    }
   ],
   "source": [
    "sns.lineplot(data=df_4c, x='month',y= 'cases',hue='countries',ci=None)\n",
    "plt.show()"
   ]
  },
  {
   "cell_type": "code",
   "execution_count": null,
   "id": "aQumJXipdxHn",
   "metadata": {
    "id": "aQumJXipdxHn",
    "outputId": "91e02f31-dd38-48e1-b85b-3cdb3e9f8f86"
   },
   "outputs": [
    {
     "data": {
      "image/png": "[encoded data removed]",
      "text/plain": [
       "<Figure size 432x288 with 1 Axes>"
      ]
     },
     "metadata": {
      "needs_background": "light"
     },
     "output_type": "display_data"
    }
   ],
   "source": [
    "sns.lineplot(data=df_4c, x='month',y= 'cases',hue='countries',\n",
    "             style='countries',markers=True)\n",
    "plt.show()"
   ]
  },
  {
   "cell_type": "code",
   "execution_count": null,
   "id": "_OSZAZK0dxHn",
   "metadata": {
    "id": "_OSZAZK0dxHn"
   },
   "outputs": [],
   "source": []
  },
  {
   "cell_type": "code",
   "execution_count": null,
   "id": "QptZFlnUdxHn",
   "metadata": {
    "id": "QptZFlnUdxHn"
   },
   "outputs": [],
   "source": []
  }
 ],
 "metadata": {
  "colab": {
   "name": "Introduction to Seaborn for Data Visualization.ipynb",
   "provenance": []
  },
  "kernelspec": {
   "display_name": "Python 3 (ipykernel)",
   "language": "python",
   "name": "python3"
  },
  "language_info": {
   "codemirror_mode": {
    "name": "ipython",
    "version": 3
   },
   "file_extension": ".py",
   "mimetype": "text/x-python",
   "name": "python",
   "nbconvert_exporter": "python",
   "pygments_lexer": "ipython3",
   "version": "3.9.12"
  }
 },
 "nbformat": 4,
 "nbformat_minor": 5
}
